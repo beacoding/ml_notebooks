{
 "cells": [
  {
   "cell_type": "code",
   "execution_count": null,
   "metadata": {
    "collapsed": true
   },
   "outputs": [],
   "source": [
    "%matplotlib inline\n",
    "import numpy as np\n",
    "import seaborn as sns\n",
    "import random as random"
   ]
  },
  {
   "cell_type": "code",
   "execution_count": null,
   "metadata": {},
   "outputs": [],
   "source": [
    "X = np.array([3, 4])\n",
    "Y = np.array([3, 4])\n",
    "\n",
    "sns.regplot(X, Y)\n",
    "\n",
    "m_true = Y[1] - Y[0] / X[1] - X[0]\n",
    "b_true = Y[0] - m_true * X[0]\n",
    "\n",
    "print (\"m_true: %10.2f    b_true: %10.2f\" %(m_true, b_true))"
   ]
  },
  {
   "cell_type": "code",
   "execution_count": null,
   "metadata": {},
   "outputs": [],
   "source": [
    "#random.seed(100)\n",
    "m = random.random()\n",
    "b = random.random()\n",
    "\n",
    "\n",
    "learning_rate = 0.05 #ask questions on how to find a good learning rate (upper bound) to satisfy convergence\n",
    "EPOCHS = 1000\n",
    "errors = np.zeros(EPOCHS)\n",
    "ms = np.zeros(EPOCHS)\n",
    "bs = np.zeros(EPOCHS)\n",
    "\n",
    "for i in range(EPOCHS):\n",
    "    x = random.random()\n",
    "    y = m_true * x + b_true\n",
    "    print(\"===== Forward Pass ====\")\n",
    "    y_hat = m * x + b\n",
    "    #error_function = (y - y_hat)^2\n",
    "    error = (y_hat - y)**2\n",
    "\n",
    "\n",
    "    print(\"m: %f, b: %f, x: %f, y_hat: %f, y: %f\" %(m, b, x, y_hat, y))\n",
    "    print \"error\", error\n",
    "    errors[i] = error\n",
    "    #use chain rule to find the derivative of E with respect to m and b\n",
    "    #remember y_hat = mx + b therefore dy_hat / dm = x\n",
    "    #dE/dm = dE/dy_hat * dy_hat/dm = 2(y_hat - y) * dy_hat / dm = 2(y_hat - y) * x\n",
    "    #remember y_hat = mx + b therefore dy_hat / db = 1\n",
    "    #dE/db = dE / dy_hat * dy_hat / dm = 2(y_hat - y) * dy_hat / db = 2(y_hat - y) * 1\n",
    "    \n",
    "    #gradient to determine how much to increase/decrease by depending on how large error is\n",
    "    de_dm = 2 * (y_hat - y) * x\n",
    "    de_db = 2 * (y_hat - y) * 1\n",
    "\n",
    "    print (\"der_m: %f  der_b: %f\" %(de_dm, de_db))\n",
    "    \n",
    "    #if the slope of the error with respect to m is positive, then as m gets larger, error gets larger. \n",
    "    # so we want to decrease m & make it negative (if de_dm is positive) & vice versa\n",
    "    m_delta = -de_dm * learning_rate\n",
    "    b_delta = -de_db * learning_rate\n",
    "\n",
    "    print (\"m_delta: %f  b_delta: %f\" %(m_delta, b_delta))\n",
    "    ms[i] = m\n",
    "    bs[i] = b\n",
    "    m += m_delta\n",
    "    b += b_delta\n"
   ]
  },
  {
   "cell_type": "code",
   "execution_count": null,
   "metadata": {},
   "outputs": [],
   "source": [
    "print(\"Final model is: {}x + {}\".format(m, b))"
   ]
  },
  {
   "cell_type": "code",
   "execution_count": null,
   "metadata": {},
   "outputs": [],
   "source": [
    "sns.tsplot(errors)"
   ]
  },
  {
   "cell_type": "code",
   "execution_count": null,
   "metadata": {},
   "outputs": [],
   "source": [
    "sns.tsplot(ms)"
   ]
  },
  {
   "cell_type": "code",
   "execution_count": null,
   "metadata": {},
   "outputs": [],
   "source": [
    "sns.tsplot(bs)"
   ]
  },
  {
   "cell_type": "code",
   "execution_count": null,
   "metadata": {
    "collapsed": true
   },
   "outputs": [],
   "source": []
  }
 ],
 "metadata": {
  "kernelspec": {
   "display_name": "Python 2",
   "language": "python",
   "name": "python2"
  },
  "language_info": {
   "codemirror_mode": {
    "name": "ipython",
    "version": 2
   },
   "file_extension": ".py",
   "mimetype": "text/x-python",
   "name": "python",
   "nbconvert_exporter": "python",
   "pygments_lexer": "ipython2",
   "version": "2.7.13"
  }
 },
 "nbformat": 4,
 "nbformat_minor": 2
}
